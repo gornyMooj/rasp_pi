{
 "cells": [
  {
   "cell_type": "code",
   "execution_count": 1,
   "id": "71faca0d-ff02-4b1b-9130-0430e470dd5d",
   "metadata": {},
   "outputs": [
    {
     "name": "stdout",
     "output_type": "stream",
     "text": [
      "(3395, 5)\n"
     ]
    },
    {
     "name": "stderr",
     "output_type": "stream",
     "text": [
      "C:\\Users\\Ukasz\\Anaconda3\\envs\\geopandas\\lib\\site-packages\\ipykernel_launcher.py:60: FutureWarning: Comparison of Timestamp with datetime.date is deprecated in order to match the standard library behavior.  In a future version these will be considered non-comparable.Use 'ts == pd.Timestamp(date)' or 'ts.date() == date' instead.\n",
      "C:\\Users\\Ukasz\\Anaconda3\\envs\\geopandas\\lib\\site-packages\\ipykernel_launcher.py:53: FutureWarning: DataFrame.mean and DataFrame.median with numeric_only=None will include datetime64 and datetime64tz columns in a future version.\n",
      "C:\\Users\\Ukasz\\Anaconda3\\envs\\geopandas\\lib\\site-packages\\ipykernel_launcher.py:65: FutureWarning: DataFrame.mean and DataFrame.median with numeric_only=None will include datetime64 and datetime64tz columns in a future version.\n"
     ]
    }
   ],
   "source": [
    "import pandas as pd\n",
    "from datetime import datetime, timedelta\n",
    "import os\n",
    "\n",
    "out_folder = 'outputs_bme280'\n",
    "out_path = os.path.join(os.getcwd(), out_folder)\n",
    "if not os.path.exists(out_path):\n",
    "    os.makedirs(out_path)\n",
    "    \n",
    "data = pd.read_csv(\"data_2.csv\", index_col=None)\n",
    "data['date'] = pd.to_datetime(data['date'])\n",
    "\n",
    "'''\n",
    "- API IMGW https://danepubliczne.imgw.pl/apiinfo\n",
    "- data for all stations: https://danepubliczne.imgw.pl/api/data/synop/station\n",
    "    - MLAWA\n",
    "    - OLSZTYN\n",
    "    - TORUN\n",
    "- FREE API:\n",
    "    https://open-meteo.com/\n",
    "    - THIS IS FOR ELGNOWO:   https://api.open-meteo.com/v1/forecast?latitude=53.45&longitude=19.95&current=temperature_2m\n",
    "'''\n",
    "df = data.copy()\n",
    "print(df.shape)\n",
    "\n",
    "out_miute = pd.DataFrame(columns = ['date','temp', 'humidity', 'pressure', 'altitude'])\n",
    "out_hour = pd.DataFrame(columns = ['date', 'hour', 'temp', 'humidity', 'pressure', 'altitude'])\n",
    "\n",
    "minute = df['date'][0].minute # datetime.now().minute\n",
    "hour = df['date'][0].hour # datetime.now().hour\n",
    "date = df['date'][0].date() #datetime.now().date()\n",
    "\n",
    "\n",
    "for ind in df.index:\n",
    "    # if a miute changes then the data is saved in csv\n",
    "    if df['date'][ind].minute > minute:\n",
    "        date = df['date'][ind]\n",
    "        temp = df['temp'][ind]\n",
    "        humidity = df['humidity'][ind]\n",
    "        pressure = df['pressure'][ind]\n",
    "        altitude = df['altitude'][ind]\n",
    "        # adding data to the dataframe\n",
    "        out_miute.loc[len(out_miute.index)] = [date, temp, humidity, pressure, altitude]\n",
    "        # save to csv ??....\n",
    "    \n",
    "\n",
    "    # if the hour changes then the mean from previouse hour is saved\n",
    "    if df['date'][ind].hour > hour:\n",
    "        # select readings from previouse hour\n",
    "        end_time = df['date'][ind] # datetime.no()\n",
    "        start_time = end_time - timedelta(hours=1)\n",
    "        selected_rows = out_miute[(out_miute['date'] >= start_time) & (out_miute['date'] <= end_time)]\n",
    "        mean = selected_rows.mean()\n",
    "        # saves means to out_hour\n",
    "        out_hour.loc[len(out_hour.index)] = [df['date'][ind], df['date'][ind].hour, mean['temp'], mean['humidity'], mean['pressure'], mean['altitude']]\n",
    "        # save to csv ??....\n",
    "    \n",
    "    \n",
    "    # if the date changes then the mean is calculated + a new csv is created for minutes data \n",
    "    if df['date'][ind].date() > date:\n",
    "        # saving mean data for readings between 23:00 and 00:00\n",
    "        end_time = df['date'][ind] # datetime.no()\n",
    "        start_time = end_time - timedelta(hours=1)\n",
    "        selected_rows = out_miute[(out_miute['date'] >= start_time) & (out_miute['date'] <= end_time)]\n",
    "        mean = selected_rows.mean()\n",
    "        # saves means to out_hour\n",
    "        out_hour.loc[len(out_hour.index)] = [df['date'][ind], df['date'][ind].hour, mean['temp'], mean['humidity'], mean['pressure'], mean['altitude']]\n",
    "        \n",
    "        # generating names for outputs\n",
    "        minutes_file = date.strftime(\"%Y%m%d\") + \"_minutes.csv\" # datetime.now().strftime(\"%Y%m%d\") \n",
    "        hour_file = date.strftime(\"%Y%m%d\") + \"_hours.csv\" # datetime.now().strftime(\"%Y%m%d\")  \n",
    "        # saving data \n",
    "        out_miute.to_csv(os.path.join(out_path, minutes_file), index=False)\n",
    "        out_hour.to_csv(os.path.join(out_path, hour_file), index=False)\n",
    "        # clear dataframes\n",
    "        out_miute = pd.DataFrame(columns = ['date','temp', 'humidity', 'pressure', 'altitude'])\n",
    "        out_hour = pd.DataFrame(columns = ['date', 'hour', 'temp', 'humidity', 'pressure', 'altitude'])\n",
    "        \n",
    "\n",
    "    minute = df['date'][ind].minute\n",
    "    hour = df['date'][ind].hour\n",
    "    date = df['date'][ind].date()"
   ]
  },
  {
   "cell_type": "markdown",
   "id": "0dc52711",
   "metadata": {},
   "source": [
    "### API"
   ]
  },
  {
   "cell_type": "code",
   "execution_count": 15,
   "id": "25245490",
   "metadata": {},
   "outputs": [
    {
     "data": {
      "text/plain": [
       "2.8"
      ]
     },
     "execution_count": 15,
     "metadata": {},
     "output_type": "execute_result"
    }
   ],
   "source": [
    "'''\n",
    "\n",
    "'''\n",
    "\n",
    "import json\n",
    "import requests\n",
    "import pprint\n",
    "\n",
    "\n",
    "def get_data_weather_api():\n",
    "    '''\n",
    "    free api up to 10 000 requests per day\n",
    "    '''\n",
    "    url = f\"https://api.open-meteo.com/v1/forecast?latitude=53.45&longitude=19.95&current=temperature_2m\"\n",
    "    response = requests.get(url)\n",
    "    response = response.json()\n",
    "    \n",
    "    return response\n",
    "    \n",
    "    \n",
    "outside_temp = get_data_weather_api()\n",
    "outside_temp = outside_temp['current']['temperature_2m'] # gives float\n",
    "outside_temp"
   ]
  },
  {
   "cell_type": "code",
   "execution_count": 14,
   "id": "c2608a77",
   "metadata": {},
   "outputs": [
    {
     "data": {
      "text/plain": [
       "float"
      ]
     },
     "execution_count": 14,
     "metadata": {},
     "output_type": "execute_result"
    }
   ],
   "source": [
    "data['current']['temperature_2m']"
   ]
  },
  {
   "cell_type": "code",
   "execution_count": 18,
   "id": "fc1e2581",
   "metadata": {},
   "outputs": [
    {
     "name": "stdout",
     "output_type": "stream",
     "text": [
      "{'current': {'interval': 900,\n",
      "             'relative_humidity_2m': 82,\n",
      "             'temperature_2m': 2.8,\n",
      "             'time': '2024-03-04T21:15',\n",
      "             'wind_speed_10m': 13.7},\n",
      " 'current_units': {'interval': 'seconds',\n",
      "                   'relative_humidity_2m': '%',\n",
      "                   'temperature_2m': '°C',\n",
      "                   'time': 'iso8601',\n",
      "                   'wind_speed_10m': 'km/h'},\n",
      " 'elevation': 195.0,\n",
      " 'generationtime_ms': 0.041961669921875,\n",
      " 'latitude': 53.4375,\n",
      " 'longitude': 19.9375,\n",
      " 'timezone': 'GMT',\n",
      " 'timezone_abbreviation': 'GMT',\n",
      " 'utc_offset_seconds': 0}\n"
     ]
    },
    {
     "data": {
      "text/plain": [
       "{'latitude': 53.4375,\n",
       " 'longitude': 19.9375,\n",
       " 'generationtime_ms': 0.041961669921875,\n",
       " 'utc_offset_seconds': 0,\n",
       " 'timezone': 'GMT',\n",
       " 'timezone_abbreviation': 'GMT',\n",
       " 'elevation': 195.0,\n",
       " 'current_units': {'time': 'iso8601',\n",
       "  'interval': 'seconds',\n",
       "  'temperature_2m': '°C',\n",
       "  'relative_humidity_2m': '%',\n",
       "  'wind_speed_10m': 'km/h'},\n",
       " 'current': {'time': '2024-03-04T21:15',\n",
       "  'interval': 900,\n",
       "  'temperature_2m': 2.8,\n",
       "  'relative_humidity_2m': 82,\n",
       "  'wind_speed_10m': 13.7}}"
      ]
     },
     "execution_count": 18,
     "metadata": {},
     "output_type": "execute_result"
    }
   ],
   "source": [
    "def api():\n",
    "    '''\n",
    "    free api up to 10 000 requests per day\n",
    "    '''\n",
    "    url = f\"https://api.open-meteo.com/v1/forecast?latitude=53.45&longitude=19.95&current=temperature_2m,,relative_humidity_2m,wind_speed_10m\"\n",
    "    response = requests.get(url)\n",
    "    response = response.json()\n",
    "    pprint.pprint(response) # data is in UTC\n",
    "    return response\n",
    "    \n",
    "    \n",
    "api_data = get_data_weather_api()\n",
    "outside_temp = api_data['current']['temperature_2m'] #°C \n",
    "outside_humidity = api_data['current']['relative_humidity_2m'] # %\n",
    "winnd_speed = api_data['current']['wind_speed_10m'] # km/h\n",
    "api_data"
   ]
  },
  {
   "cell_type": "code",
   "execution_count": 21,
   "id": "5c80a7ef",
   "metadata": {},
   "outputs": [
    {
     "data": {
      "text/plain": [
       "13.7"
      ]
     },
     "execution_count": 21,
     "metadata": {},
     "output_type": "execute_result"
    }
   ],
   "source": [
    "winnd_speed"
   ]
  },
  {
   "cell_type": "code",
   "execution_count": 22,
   "id": "566c7635",
   "metadata": {},
   "outputs": [],
   "source": [
    "from datetime import datetime, timedelta\n",
    "\n",
    "end_time = datetime.now() # datetime.no()\n",
    "start_time = end_time - timedelta(minutes=5)\n"
   ]
  },
  {
   "cell_type": "code",
   "execution_count": 23,
   "id": "5c8115cc",
   "metadata": {},
   "outputs": [
    {
     "name": "stdout",
     "output_type": "stream",
     "text": [
      "2024-03-04 22:50:11.520224 2024-03-04 22:55:11.520224\n"
     ]
    }
   ],
   "source": [
    "print(start_time, end_time)"
   ]
  },
  {
   "cell_type": "code",
   "execution_count": null,
   "id": "7ea2ca82",
   "metadata": {},
   "outputs": [],
   "source": []
  }
 ],
 "metadata": {
  "kernelspec": {
   "display_name": "Python 3 (ipykernel)",
   "language": "python",
   "name": "python3"
  },
  "language_info": {
   "codemirror_mode": {
    "name": "ipython",
    "version": 3
   },
   "file_extension": ".py",
   "mimetype": "text/x-python",
   "name": "python",
   "nbconvert_exporter": "python",
   "pygments_lexer": "ipython3",
   "version": "3.7.11"
  }
 },
 "nbformat": 4,
 "nbformat_minor": 5
}
